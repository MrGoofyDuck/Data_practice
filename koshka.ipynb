{
 "cells": [
  {
   "cell_type": "markdown",
   "metadata": {},
   "source": [
    "# 1 Percentile:"
   ]
  },
  {
   "cell_type": "markdown",
   "metadata": {},
   "source": [
    "A percentile is a statistical measure used to indicate the value below which a given percentage of observations in a group of observations falls. In simpler terms, it tells you where a particular value stands in relation to other values in a dataset.\n",
    "\n",
    "For example, if you score in the 80th percentile on a standardized test, it means that your score is higher than 80% of the scores of people who took the test, and only 20% of the scores are higher than yours.\n",
    "\n",
    "Percentiles are often used in various fields such as education, healthcare, finance, and demographics to compare and understand distributions of data. They help provide context and insight into the relative standing of a particular value within a dataset."
   ]
  },
  {
   "cell_type": "code",
   "execution_count": 45,
   "metadata": {},
   "outputs": [
    {
     "name": "stdout",
     "output_type": "stream",
     "text": [
      "         Duration       Pulse    Maxpulse     Calories\n",
      "count  169.000000  169.000000  169.000000   164.000000\n",
      "mean    63.846154  107.461538  134.047337   375.790244\n",
      "std     42.299949   14.510259   16.450434   266.379919\n",
      "min     15.000000   80.000000  100.000000    50.300000\n",
      "25%     45.000000  100.000000  124.000000   250.925000\n",
      "50%     60.000000  105.000000  131.000000   318.600000\n",
      "75%     60.000000  111.000000  141.000000   387.600000\n",
      "max    300.000000  159.000000  184.000000  1860.400000\n"
     ]
    }
   ],
   "source": [
    "import pandas as pd \n",
    "\n",
    "health_data=pd.read_csv('C:/Users/Admin/Downloads/health.csv',encoding='unicode_escape')\n",
    "\n",
    "print(health_data.describe())"
   ]
  },
  {
   "cell_type": "code",
   "execution_count": 46,
   "metadata": {},
   "outputs": [
    {
     "name": "stdout",
     "output_type": "stream",
     "text": [
      "125.4\n"
     ]
    }
   ],
   "source": [
    "import pandas as pd\n",
    "import numpy as np\n",
    "\n",
    "health_data=pd.read_csv('C:/Users/Admin/Downloads/health.csv',encoding='unicode_escape')\n",
    "\n",
    "Maxpulse=health_data['Maxpulse'].values\n",
    "\n",
    "percentile30 = np.percentile(Maxpulse, 30)\n",
    "\n",
    "print(percentile30)"
   ]
  },
  {
   "cell_type": "markdown",
   "metadata": {},
   "source": [
    "# 2 Standard Deviation:"
   ]
  },
  {
   "cell_type": "markdown",
   "metadata": {},
   "source": [
    "Standard deviation is a number that describes how spread out the observations are.\n",
    "A mathematical function will have difficulties in predicting precise values, if the observations are \"spread\". Standard deviation is a measure of uncertainty.\n",
    "\n",
    "A low standard deviation means that most of the numbers are close to the mean (average) value.\n",
    "\n",
    "A high standard deviation means that the values are spread out over a wider range."
   ]
  },
  {
   "cell_type": "code",
   "execution_count": 47,
   "metadata": {},
   "outputs": [
    {
     "name": "stdout",
     "output_type": "stream",
     "text": [
      "Duration     42.174616\n",
      "Pulse        14.467266\n",
      "Maxpulse     16.401692\n",
      "Calories    265.566544\n",
      "dtype: float64\n"
     ]
    }
   ],
   "source": [
    "import numpy as np\n",
    "import pandas as df\n",
    "\n",
    "health_data=pd.read_csv('C:/Users/Admin/Downloads/health.csv',encoding='unicode_escape')\n",
    "\n",
    "std=np.std(health_data)\n",
    "\n",
    "print(std)"
   ]
  },
  {
   "cell_type": "markdown",
   "metadata": {},
   "source": [
    "**Coefficient of Variation**"
   ]
  },
  {
   "cell_type": "markdown",
   "metadata": {},
   "source": [
    "The coefficient of variation is used to get an idea of how large the standard deviation is.\n",
    "\n",
    "Mathematically, the coefficient of variation is defined as:"
   ]
  },
  {
   "cell_type": "markdown",
   "metadata": {},
   "source": [
    "Coefficient of Variation = Standard Deviation / Mean"
   ]
  },
  {
   "cell_type": "markdown",
   "metadata": {},
   "source": [
    "We can do this in Python if we proceed with the following code:"
   ]
  },
  {
   "cell_type": "code",
   "execution_count": 48,
   "metadata": {},
   "outputs": [
    {
     "name": "stdout",
     "output_type": "stream",
     "text": [
      "Duration    0.249916\n",
      "Pulse       0.085729\n",
      "Maxpulse    0.097192\n",
      "Calories    1.573681\n",
      "dtype: float64\n"
     ]
    }
   ],
   "source": [
    "import pandas as pd \n",
    "import numpy as np\n",
    "\n",
    "health_data=pd.read_csv('C:/Users/Admin/Downloads/health.csv',encoding='unicode_escape')\n",
    "\n",
    "std=np.std(health_data)\n",
    "mean=np.mean(health_data)\n",
    "\n",
    "cv=std/mean\n",
    "\n",
    "print(cv)\n",
    "\n"
   ]
  },
  {
   "cell_type": "markdown",
   "metadata": {},
   "source": [
    "# 3 Variance:"
   ]
  },
  {
   "cell_type": "markdown",
   "metadata": {},
   "source": [
    "Variance is another number that indicates how spread out the values are.\n",
    "\n",
    "In fact, if you take the square root of the variance, you get the standard deviation. Or the other way around, if you multiply the standard deviation by itself, you get the variance!\n",
    "\n",
    "We will first use the data set with 10 observations to give an example of how we can calculate the variance:"
   ]
  },
  {
   "cell_type": "code",
   "execution_count": 49,
   "metadata": {},
   "outputs": [
    {
     "name": "stdout",
     "output_type": "stream",
     "text": [
      "Duration     1789.285714\n",
      "Pulse         210.547619\n",
      "Maxpulse      270.616793\n",
      "Calories    70958.261377\n",
      "dtype: float64\n"
     ]
    }
   ],
   "source": [
    "import pandas as pd \n",
    "import numpy as np\n",
    "health_data=pd.read_csv('C:/Users/Admin/Downloads/health.csv',encoding='unicode_escape')\n",
    "\n",
    "var1=health_data.var( )\n",
    "\n",
    "print(var1)\n"
   ]
  },
  {
   "cell_type": "markdown",
   "metadata": {},
   "source": [
    "# 4 Correlation:"
   ]
  },
  {
   "cell_type": "markdown",
   "metadata": {},
   "source": [
    "Correlation measures the relationship between two variables.\n"
   ]
  },
  {
   "cell_type": "code",
   "execution_count": 52,
   "metadata": {},
   "outputs": [
    {
     "data": {
      "image/png": "[encoded data removed]",
      "text/plain": [
       "<Figure size 640x480 with 1 Axes>"
      ]
     },
     "metadata": {},
     "output_type": "display_data"
    }
   ],
   "source": [
    "\n",
    "import matplotlib.pyplot as plt\n",
    "\n",
    "\n",
    "health_data=pd.read_csv('C:/Users/Admin/Downloads/health.csv',encoding='unicode_escape')\n",
    "\n",
    "health_data.plot(x ='Pulse', y='Calories', kind='scatter'),\n",
    "\n",
    "plt.show()\n",
    "\n",
    "\n"
   ]
  },
  {
   "cell_type": "markdown",
   "metadata": {},
   "source": [
    "# 5 Correlation matrix in Python:"
   ]
  },
  {
   "cell_type": "markdown",
   "metadata": {},
   "source": [
    "A matrix is an array of numbers arranged in rows and columns.\n",
    "\n",
    "A correlation matrix is simply a table showing the correlation coefficients between variables."
   ]
  },
  {
   "cell_type": "markdown",
   "metadata": {},
   "source": [
    "We can use the corr() function in Python to create a correlation matrix. We also use the round() function to round the output to two decimals:"
   ]
  },
  {
   "cell_type": "code",
   "execution_count": 54,
   "metadata": {},
   "outputs": [
    {
     "name": "stdout",
     "output_type": "stream",
     "text": [
      "          Duration  Pulse  Maxpulse  Calories\n",
      "Duration      1.00  -0.16      0.01      0.92\n",
      "Pulse        -0.16   1.00      0.79      0.03\n",
      "Maxpulse      0.01   0.79      1.00      0.20\n",
      "Calories      0.92   0.03      0.20      1.00\n"
     ]
    }
   ],
   "source": [
    "Corr_Matrix=round(health_data.corr(),2)\n",
    "\n",
    "print(Corr_Matrix)"
   ]
  },
  {
   "cell_type": "markdown",
   "metadata": {},
   "source": [
    "**Heatmap**\n",
    "\n",
    "We can use the Seaborn library to create a correlation heat map (Seaborn is a visualization library based on matplotlib):"
   ]
  },
  {
   "cell_type": "code",
   "execution_count": 55,
   "metadata": {},
   "outputs": [
    {
     "data": {
      "image/png": "[encoded data removed]",
      "text/plain": [
       "<Figure size 640x480 with 2 Axes>"
      ]
     },
     "metadata": {},
     "output_type": "display_data"
    }
   ],
   "source": [
    "import seaborn as sns\n",
    "\n",
    "correlation_full_health = health_data.corr()\n",
    "axis_corr = sns.heatmap(\n",
    "correlation_full_health,\n",
    "vmin=-1, vmax=1, center=0,\n",
    "cmap=sns.diverging_palette(50, 500, n=500),\n",
    "square=True\n",
    ")\n",
    "\n",
    "plt.show()\n"
   ]
  },
  {
   "cell_type": "markdown",
   "metadata": {},
   "source": [
    "# 6 Correlation vs. Causality:"
   ]
  },
  {
   "cell_type": "markdown",
   "metadata": {},
   "source": [
    "**Correlation Does Not Imply Causality**\n",
    "\n",
    "Correlation measures the numerical relationship between two variables.\n",
    "\n",
    "A high correlation coefficient (close to 1), does not mean that we can for sure conclude an actual relationship between two variables.\n"
   ]
  },
  {
   "cell_type": "markdown",
   "metadata": {},
   "source": [
    "**The Beach example:**"
   ]
  },
  {
   "cell_type": "code",
   "execution_count": 56,
   "metadata": {},
   "outputs": [
    {
     "data": {
      "image/png": "[encoded data removed]",
      "text/plain": [
       "<Figure size 640x480 with 1 Axes>"
      ]
     },
     "metadata": {},
     "output_type": "display_data"
    },
    {
     "name": "stdout",
     "output_type": "stream",
     "text": [
      "                   Drowning_Accident  Ice_Cream_Sale\n",
      "Drowning_Accident                1.0             1.0\n",
      "Ice_Cream_Sale                   1.0             1.0\n"
     ]
    }
   ],
   "source": [
    "import pandas as pd \n",
    "import matplotlib.pyplot as plt\n",
    "\n",
    "Ice_Cream_Sale = [20,40,60,80,100,120,140,160,180,200]\n",
    "\n",
    "Drowning_Accident=[20,40,60,80,100,120,140,160,180,200]\n",
    "\n",
    "Drowning = {\"Drowning_Accident\": [20,40,60,80,100,120,140,160,180,200],\n",
    "\"Ice_Cream_Sale\": [20,40,60,80,100,120,140,160,180,200]}\n",
    "Drowning = pd.DataFrame(data=Drowning)\n",
    "\n",
    "Drowning.plot(x=\"Ice_Cream_Sale\", y=\"Drowning_Accident\", kind=\"scatter\")\n",
    "plt.show()\n",
    "\n",
    "correlation_beach = Drowning.corr()\n",
    "print(correlation_beach)"
   ]
  },
  {
   "cell_type": "markdown",
   "metadata": {},
   "source": [
    "**Correlation vs Causality - The Beach Example**"
   ]
  },
  {
   "cell_type": "markdown",
   "metadata": {},
   "source": [
    "In other words: can we use ice cream sale to predict drowning accidents?\n",
    "\n",
    "The answer is - Probably not.\n",
    "\n",
    "It is likely that these two variables are accidentally correlating with each other.\n",
    "\n",
    "What causes drowning then?\n",
    "\n",
    "Unskilled swimmers\n",
    "Waves\n",
    "Cramp\n",
    "Seizure disorders\n",
    "Lack of supervision\n",
    "Alcohol (mis)use\n",
    "etc.\n",
    "Let us reverse the argument:\n",
    "\n",
    "Does a low correlation coefficient (close to zero) mean that change in x does not affect y?\n",
    "\n",
    "Back to the question:\n",
    "\n",
    "Can we conclude that Average_Pulse does not affect Calorie_Burnage because of a low correlation coefficient?\n",
    "The answer is no.\n",
    "\n",
    "There is an important difference between correlation and causality:\n",
    "\n",
    "Correlation is a number that measures how closely the data are related\n",
    "Causality is the conclusion that x causes y."
   ]
  }
 ],
 "metadata": {
  "kernelspec": {
   "display_name": "base",
   "language": "python",
   "name": "python3"
  },
  "language_info": {
   "codemirror_mode": {
    "name": "ipython",
    "version": 3
   },
   "file_extension": ".py",
   "mimetype": "text/x-python",
   "name": "python",
   "nbconvert_exporter": "python",
   "pygments_lexer": "ipython3",
   "version": "3.11.5"
  }
 },
 "nbformat": 4,
 "nbformat_minor": 2
}
